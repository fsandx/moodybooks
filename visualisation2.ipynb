{
 "cells": [
  {
   "cell_type": "code",
   "execution_count": 19,
   "id": "82d061d7",
   "metadata": {},
   "outputs": [
    {
     "data": {
      "text/plain": [
       "<AxesSubplot:xlabel='Hit Proportion', ylabel='Book Id'>"
      ]
     },
     "execution_count": 19,
     "metadata": {},
     "output_type": "execute_result"
    },
    {
     "data": {
      "image/png": "[encoded data removed]",
      "text/plain": [
       "<Figure size 432x288 with 1 Axes>"
      ]
     },
     "metadata": {
      "needs_background": "light"
     },
     "output_type": "display_data"
    }
   ],
   "source": [
    "# Visualisation2\n",
    "# Proportion\n",
    "import pandas as pd\n",
    "import seaborn as sns\n",
    "\n",
    "def hitsProportion(row):\n",
    "    return (row[\"sum\"] / row['Text Size'] * 10000)\n",
    "\n",
    "df = pd.read_csv('data/moodywords_result.csv')\n",
    "textCol = df[\"Text Size\"]\n",
    "bookIdCol = df[\"Book Id\"]\n",
    "df = df.drop(df.columns[[0, 1, 29]], axis=1) \n",
    "df[\"sum\"] = df[list(df)].sum(axis=1)\n",
    "df[\"Text Size\"] = textCol\n",
    "df[\"Book Id\"] = bookIdCol\n",
    "df['Hit Proportion'] = df.apply(hitsProportion, axis=1)\n",
    "df\n",
    "\n",
    "sns.barplot(y=\"Book Id\", x=\"Hit Proportion\",data=df)"
   ]
  },
  {
   "cell_type": "code",
   "execution_count": null,
   "id": "ebf236c4",
   "metadata": {},
   "outputs": [],
   "source": []
  },
  {
   "cell_type": "code",
   "execution_count": null,
   "id": "9fb07daa",
   "metadata": {},
   "outputs": [],
   "source": []
  }
 ],
 "metadata": {
  "kernelspec": {
   "display_name": "Python 3 (ipykernel)",
   "language": "python",
   "name": "python3"
  },
  "language_info": {
   "codemirror_mode": {
    "name": "ipython",
    "version": 3
   },
   "file_extension": ".py",
   "mimetype": "text/x-python",
   "name": "python",
   "nbconvert_exporter": "python",
   "pygments_lexer": "ipython3",
   "version": "3.8.8"
  }
 },
 "nbformat": 4,
 "nbformat_minor": 5
}
